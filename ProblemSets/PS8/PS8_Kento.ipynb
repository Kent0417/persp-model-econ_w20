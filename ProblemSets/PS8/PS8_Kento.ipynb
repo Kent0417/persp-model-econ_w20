{
 "cells": [
  {
   "cell_type": "markdown",
   "metadata": {},
   "source": [
    "# Problem Set #8\n",
    "- MACS 30150, Dr. Evans \n",
    "- Name: Kento Yoshizawa (CNET: kyoshizawa) \n",
    "- Date: March 9, 2020"
   ]
  },
  {
   "cell_type": "code",
   "execution_count": 1,
   "metadata": {},
   "outputs": [],
   "source": [
    "import numpy as np\n",
    "import pandas as pd\n",
    "import matplotlib.pyplot as plt\n",
    "import seaborn as sns\n",
    "%matplotlib inline\n",
    "%config InlineBackend.figure_formats = {'png', 'retina'}\n",
    "from sklearn.linear_model import LogisticRegression\n",
    "from sklearn.tree import DecisionTreeRegressor, DecisionTreeClassifier\n",
    "from sklearn.ensemble import RandomForestRegressor\n",
    "from sklearn import svm\n",
    "from sklearn.model_selection import train_test_split\n",
    "from sklearn.metrics import mean_squared_error\n",
    "from sklearn.metrics import classification_report, precision_score\n",
    "from sklearn.model_selection import RandomizedSearchCV\n",
    "from scipy.stats import randint as sp_randint\n",
    "from scipy.stats import uniform as sp_uniform"
   ]
  },
  {
   "cell_type": "markdown",
   "metadata": {},
   "source": [
    "## Question 1."
   ]
  },
  {
   "cell_type": "code",
   "execution_count": 2,
   "metadata": {},
   "outputs": [
    {
     "data": {
      "text/html": [
       "<div>\n",
       "<style scoped>\n",
       "    .dataframe tbody tr th:only-of-type {\n",
       "        vertical-align: middle;\n",
       "    }\n",
       "\n",
       "    .dataframe tbody tr th {\n",
       "        vertical-align: top;\n",
       "    }\n",
       "\n",
       "    .dataframe thead th {\n",
       "        text-align: right;\n",
       "    }\n",
       "</style>\n",
       "<table border=\"1\" class=\"dataframe\">\n",
       "  <thead>\n",
       "    <tr style=\"text-align: right;\">\n",
       "      <th></th>\n",
       "      <th>biden</th>\n",
       "      <th>female</th>\n",
       "      <th>age</th>\n",
       "      <th>educ</th>\n",
       "      <th>dem</th>\n",
       "      <th>rep</th>\n",
       "    </tr>\n",
       "  </thead>\n",
       "  <tbody>\n",
       "    <tr>\n",
       "      <th>0</th>\n",
       "      <td>90</td>\n",
       "      <td>0</td>\n",
       "      <td>19</td>\n",
       "      <td>12</td>\n",
       "      <td>1</td>\n",
       "      <td>0</td>\n",
       "    </tr>\n",
       "    <tr>\n",
       "      <th>1</th>\n",
       "      <td>70</td>\n",
       "      <td>1</td>\n",
       "      <td>51</td>\n",
       "      <td>14</td>\n",
       "      <td>1</td>\n",
       "      <td>0</td>\n",
       "    </tr>\n",
       "    <tr>\n",
       "      <th>2</th>\n",
       "      <td>60</td>\n",
       "      <td>0</td>\n",
       "      <td>27</td>\n",
       "      <td>14</td>\n",
       "      <td>0</td>\n",
       "      <td>0</td>\n",
       "    </tr>\n",
       "    <tr>\n",
       "      <th>3</th>\n",
       "      <td>50</td>\n",
       "      <td>1</td>\n",
       "      <td>43</td>\n",
       "      <td>14</td>\n",
       "      <td>1</td>\n",
       "      <td>0</td>\n",
       "    </tr>\n",
       "    <tr>\n",
       "      <th>4</th>\n",
       "      <td>60</td>\n",
       "      <td>1</td>\n",
       "      <td>38</td>\n",
       "      <td>14</td>\n",
       "      <td>0</td>\n",
       "      <td>1</td>\n",
       "    </tr>\n",
       "  </tbody>\n",
       "</table>\n",
       "</div>"
      ],
      "text/plain": [
       "   biden  female  age  educ  dem  rep\n",
       "0     90       0   19    12    1    0\n",
       "1     70       1   51    14    1    0\n",
       "2     60       0   27    14    0    0\n",
       "3     50       1   43    14    1    0\n",
       "4     60       1   38    14    0    1"
      ]
     },
     "execution_count": 2,
     "metadata": {},
     "output_type": "execute_result"
    }
   ],
   "source": [
    "df_jb = pd.read_csv('biden.csv')\n",
    "df_jb.head()"
   ]
  },
  {
   "cell_type": "code",
   "execution_count": 3,
   "metadata": {},
   "outputs": [
    {
     "name": "stdout",
     "output_type": "stream",
     "text": [
      "<class 'pandas.core.frame.DataFrame'>\n",
      "RangeIndex: 1807 entries, 0 to 1806\n",
      "Data columns (total 6 columns):\n",
      "biden     1807 non-null int64\n",
      "female    1807 non-null int64\n",
      "age       1807 non-null int64\n",
      "educ      1807 non-null int64\n",
      "dem       1807 non-null int64\n",
      "rep       1807 non-null int64\n",
      "dtypes: int64(6)\n",
      "memory usage: 84.8 KB\n"
     ]
    }
   ],
   "source": [
    "df_jb.info()"
   ]
  },
  {
   "cell_type": "markdown",
   "metadata": {},
   "source": [
    "### (a)"
   ]
  },
  {
   "cell_type": "code",
   "execution_count": 4,
   "metadata": {},
   "outputs": [],
   "source": [
    "y = df_jb['biden'].values\n",
    "X = df_jb.drop('biden',axis = 1).values\n",
    "\n",
    "X_train, X_test, y_train, y_test = train_test_split(X, y, test_size = .3, random_state=25)"
   ]
  },
  {
   "cell_type": "code",
   "execution_count": 5,
   "metadata": {},
   "outputs": [
    {
     "data": {
      "text/plain": [
       "DecisionTreeRegressor(criterion='mse', max_depth=3, max_features=None,\n",
       "                      max_leaf_nodes=None, min_impurity_decrease=0.0,\n",
       "                      min_impurity_split=None, min_samples_leaf=5,\n",
       "                      min_samples_split=2, min_weight_fraction_leaf=0.0,\n",
       "                      presort=False, random_state=None, splitter='best')"
      ]
     },
     "execution_count": 5,
     "metadata": {},
     "output_type": "execute_result"
    }
   ],
   "source": [
    "t_rg = DecisionTreeRegressor(max_depth=3, min_samples_leaf=5)\n",
    "t_rg.fit(X_train, y_train)"
   ]
  },
  {
   "cell_type": "code",
   "execution_count": 6,
   "metadata": {},
   "outputs": [
    {
     "data": {
      "image/svg+xml": [
       "<?xml version=\"1.0\" encoding=\"UTF-8\" standalone=\"no\"?>\n",
       "<!DOCTYPE svg PUBLIC \"-//W3C//DTD SVG 1.1//EN\"\n",
       " \"http://www.w3.org/Graphics/SVG/1.1/DTD/svg11.dtd\">\n",
       "<!-- Generated by graphviz version 2.40.1 (20161225.0304)\n",
       " -->\n",
       "<!-- Title: Tree Pages: 1 -->\n",
       "<svg width=\"1006pt\" height=\"358pt\"\n",
       " viewBox=\"0.00 0.00 1006.01 358.00\" xmlns=\"http://www.w3.org/2000/svg\" xmlns:xlink=\"http://www.w3.org/1999/xlink\">\n",
       "<g id=\"graph0\" class=\"graph\" transform=\"scale(1 1) rotate(0) translate(4 354)\">\n",
       "<title>Tree</title>\n",
       "<polygon fill=\"#ffffff\" stroke=\"transparent\" points=\"-4,4 -4,-354 1002.0098,-354 1002.0098,4 -4,4\"/>\n",
       "<!-- 0 -->\n",
       "<g id=\"node1\" class=\"node\">\n",
       "<title>0</title>\n",
       "<path fill=\"#f0b78f\" stroke=\"#000000\" d=\"M544.2356,-350C544.2356,-350 452.7742,-350 452.7742,-350 446.7742,-350 440.7742,-344 440.7742,-338 440.7742,-338 440.7742,-298 440.7742,-298 440.7742,-292 446.7742,-286 452.7742,-286 452.7742,-286 544.2356,-286 544.2356,-286 550.2356,-286 556.2356,-292 556.2356,-298 556.2356,-298 556.2356,-338 556.2356,-338 556.2356,-344 550.2356,-350 544.2356,-350\"/>\n",
       "<text text-anchor=\"middle\" x=\"498.5049\" y=\"-334.8\" font-family=\"Helvetica,sans-Serif\" font-size=\"14.00\" fill=\"#000000\">dem &lt;= 0.5</text>\n",
       "<text text-anchor=\"middle\" x=\"498.5049\" y=\"-320.8\" font-family=\"Helvetica,sans-Serif\" font-size=\"14.00\" fill=\"#000000\">mse = 556.262</text>\n",
       "<text text-anchor=\"middle\" x=\"498.5049\" y=\"-306.8\" font-family=\"Helvetica,sans-Serif\" font-size=\"14.00\" fill=\"#000000\">samples = 1264</text>\n",
       "<text text-anchor=\"middle\" x=\"498.5049\" y=\"-292.8\" font-family=\"Helvetica,sans-Serif\" font-size=\"14.00\" fill=\"#000000\">value = 62.165</text>\n",
       "</g>\n",
       "<!-- 1 -->\n",
       "<g id=\"node2\" class=\"node\">\n",
       "<title>1</title>\n",
       "<path fill=\"#f6d4bb\" stroke=\"#000000\" d=\"M414.0146,-250C414.0146,-250 328.9951,-250 328.9951,-250 322.9951,-250 316.9951,-244 316.9951,-238 316.9951,-238 316.9951,-198 316.9951,-198 316.9951,-192 322.9951,-186 328.9951,-186 328.9951,-186 414.0146,-186 414.0146,-186 420.0146,-186 426.0146,-192 426.0146,-198 426.0146,-198 426.0146,-238 426.0146,-238 426.0146,-244 420.0146,-250 414.0146,-250\"/>\n",
       "<text text-anchor=\"middle\" x=\"371.5049\" y=\"-234.8\" font-family=\"Helvetica,sans-Serif\" font-size=\"14.00\" fill=\"#000000\">rep &lt;= 0.5</text>\n",
       "<text text-anchor=\"middle\" x=\"371.5049\" y=\"-220.8\" font-family=\"Helvetica,sans-Serif\" font-size=\"14.00\" fill=\"#000000\">mse = 507.397</text>\n",
       "<text text-anchor=\"middle\" x=\"371.5049\" y=\"-206.8\" font-family=\"Helvetica,sans-Serif\" font-size=\"14.00\" fill=\"#000000\">samples = 724</text>\n",
       "<text text-anchor=\"middle\" x=\"371.5049\" y=\"-192.8\" font-family=\"Helvetica,sans-Serif\" font-size=\"14.00\" fill=\"#000000\">value = 52.811</text>\n",
       "</g>\n",
       "<!-- 0&#45;&gt;1 -->\n",
       "<g id=\"edge1\" class=\"edge\">\n",
       "<title>0&#45;&gt;1</title>\n",
       "<path fill=\"none\" stroke=\"#000000\" d=\"M457.6222,-285.8089C445.7257,-276.4416 432.6109,-266.115 420.2801,-256.4057\"/>\n",
       "<polygon fill=\"#000000\" stroke=\"#000000\" points=\"422.333,-253.5673 412.3109,-250.1308 418.0025,-259.0671 422.333,-253.5673\"/>\n",
       "<text text-anchor=\"middle\" x=\"415.2637\" y=\"-270.7558\" font-family=\"Helvetica,sans-Serif\" font-size=\"14.00\" fill=\"#000000\">True</text>\n",
       "</g>\n",
       "<!-- 8 -->\n",
       "<g id=\"node9\" class=\"node\">\n",
       "<title>8</title>\n",
       "<path fill=\"#e89253\" stroke=\"#000000\" d=\"M668.0146,-250C668.0146,-250 582.9951,-250 582.9951,-250 576.9951,-250 570.9951,-244 570.9951,-238 570.9951,-238 570.9951,-198 570.9951,-198 570.9951,-192 576.9951,-186 582.9951,-186 582.9951,-186 668.0146,-186 668.0146,-186 674.0146,-186 680.0146,-192 680.0146,-198 680.0146,-198 680.0146,-238 680.0146,-238 680.0146,-244 674.0146,-250 668.0146,-250\"/>\n",
       "<text text-anchor=\"middle\" x=\"625.5049\" y=\"-234.8\" font-family=\"Helvetica,sans-Serif\" font-size=\"14.00\" fill=\"#000000\">age &lt;= 54.5</text>\n",
       "<text text-anchor=\"middle\" x=\"625.5049\" y=\"-220.8\" font-family=\"Helvetica,sans-Serif\" font-size=\"14.00\" fill=\"#000000\">mse = 347.197</text>\n",
       "<text text-anchor=\"middle\" x=\"625.5049\" y=\"-206.8\" font-family=\"Helvetica,sans-Serif\" font-size=\"14.00\" fill=\"#000000\">samples = 540</text>\n",
       "<text text-anchor=\"middle\" x=\"625.5049\" y=\"-192.8\" font-family=\"Helvetica,sans-Serif\" font-size=\"14.00\" fill=\"#000000\">value = 74.706</text>\n",
       "</g>\n",
       "<!-- 0&#45;&gt;8 -->\n",
       "<g id=\"edge8\" class=\"edge\">\n",
       "<title>0&#45;&gt;8</title>\n",
       "<path fill=\"none\" stroke=\"#000000\" d=\"M539.3875,-285.8089C551.284,-276.4416 564.3988,-266.115 576.7296,-256.4057\"/>\n",
       "<polygon fill=\"#000000\" stroke=\"#000000\" points=\"579.0073,-259.0671 584.6988,-250.1308 574.6768,-253.5673 579.0073,-259.0671\"/>\n",
       "<text text-anchor=\"middle\" x=\"581.7461\" y=\"-270.7558\" font-family=\"Helvetica,sans-Serif\" font-size=\"14.00\" fill=\"#000000\">False</text>\n",
       "</g>\n",
       "<!-- 2 -->\n",
       "<g id=\"node3\" class=\"node\">\n",
       "<title>2</title>\n",
       "<path fill=\"#f2c19e\" stroke=\"#000000\" d=\"M224.0146,-150C224.0146,-150 138.9951,-150 138.9951,-150 132.9951,-150 126.9951,-144 126.9951,-138 126.9951,-138 126.9951,-98 126.9951,-98 126.9951,-92 132.9951,-86 138.9951,-86 138.9951,-86 224.0146,-86 224.0146,-86 230.0146,-86 236.0146,-92 236.0146,-98 236.0146,-98 236.0146,-138 236.0146,-138 236.0146,-144 230.0146,-150 224.0146,-150\"/>\n",
       "<text text-anchor=\"middle\" x=\"181.5049\" y=\"-134.8\" font-family=\"Helvetica,sans-Serif\" font-size=\"14.00\" fill=\"#000000\">female &lt;= 0.5</text>\n",
       "<text text-anchor=\"middle\" x=\"181.5049\" y=\"-120.8\" font-family=\"Helvetica,sans-Serif\" font-size=\"14.00\" fill=\"#000000\">mse = 444.551</text>\n",
       "<text text-anchor=\"middle\" x=\"181.5049\" y=\"-106.8\" font-family=\"Helvetica,sans-Serif\" font-size=\"14.00\" fill=\"#000000\">samples = 468</text>\n",
       "<text text-anchor=\"middle\" x=\"181.5049\" y=\"-92.8\" font-family=\"Helvetica,sans-Serif\" font-size=\"14.00\" fill=\"#000000\">value = 58.868</text>\n",
       "</g>\n",
       "<!-- 1&#45;&gt;2 -->\n",
       "<g id=\"edge2\" class=\"edge\">\n",
       "<title>1&#45;&gt;2</title>\n",
       "<path fill=\"none\" stroke=\"#000000\" d=\"M316.8039,-189.21C294.4474,-177.4434 268.4359,-163.7532 245.2276,-151.5383\"/>\n",
       "<polygon fill=\"#000000\" stroke=\"#000000\" points=\"246.628,-148.3202 236.1486,-146.7599 243.3677,-154.5146 246.628,-148.3202\"/>\n",
       "</g>\n",
       "<!-- 5 -->\n",
       "<g id=\"node6\" class=\"node\">\n",
       "<title>5</title>\n",
       "<path fill=\"#fdf5ef\" stroke=\"#000000\" d=\"M414.0146,-150C414.0146,-150 328.9951,-150 328.9951,-150 322.9951,-150 316.9951,-144 316.9951,-138 316.9951,-138 316.9951,-98 316.9951,-98 316.9951,-92 322.9951,-86 328.9951,-86 328.9951,-86 414.0146,-86 414.0146,-86 420.0146,-86 426.0146,-92 426.0146,-98 426.0146,-98 426.0146,-138 426.0146,-138 426.0146,-144 420.0146,-150 414.0146,-150\"/>\n",
       "<text text-anchor=\"middle\" x=\"371.5049\" y=\"-134.8\" font-family=\"Helvetica,sans-Serif\" font-size=\"14.00\" fill=\"#000000\">female &lt;= 0.5</text>\n",
       "<text text-anchor=\"middle\" x=\"371.5049\" y=\"-120.8\" font-family=\"Helvetica,sans-Serif\" font-size=\"14.00\" fill=\"#000000\">mse = 432.623</text>\n",
       "<text text-anchor=\"middle\" x=\"371.5049\" y=\"-106.8\" font-family=\"Helvetica,sans-Serif\" font-size=\"14.00\" fill=\"#000000\">samples = 256</text>\n",
       "<text text-anchor=\"middle\" x=\"371.5049\" y=\"-92.8\" font-family=\"Helvetica,sans-Serif\" font-size=\"14.00\" fill=\"#000000\">value = 41.738</text>\n",
       "</g>\n",
       "<!-- 1&#45;&gt;5 -->\n",
       "<g id=\"edge5\" class=\"edge\">\n",
       "<title>1&#45;&gt;5</title>\n",
       "<path fill=\"none\" stroke=\"#000000\" d=\"M371.5049,-185.8089C371.5049,-177.6906 371.5049,-168.8517 371.5049,-160.3186\"/>\n",
       "<polygon fill=\"#000000\" stroke=\"#000000\" points=\"375.005,-160.1307 371.5049,-150.1308 368.005,-160.1308 375.005,-160.1307\"/>\n",
       "</g>\n",
       "<!-- 3 -->\n",
       "<g id=\"node4\" class=\"node\">\n",
       "<title>3</title>\n",
       "<path fill=\"#f4c8a9\" stroke=\"#000000\" d=\"M97.0146,-50C97.0146,-50 11.9951,-50 11.9951,-50 5.9951,-50 -.0049,-44 -.0049,-38 -.0049,-38 -.0049,-12 -.0049,-12 -.0049,-6 5.9951,0 11.9951,0 11.9951,0 97.0146,0 97.0146,0 103.0146,0 109.0146,-6 109.0146,-12 109.0146,-12 109.0146,-38 109.0146,-38 109.0146,-44 103.0146,-50 97.0146,-50\"/>\n",
       "<text text-anchor=\"middle\" x=\"54.5049\" y=\"-34.8\" font-family=\"Helvetica,sans-Serif\" font-size=\"14.00\" fill=\"#000000\">mse = 470.335</text>\n",
       "<text text-anchor=\"middle\" x=\"54.5049\" y=\"-20.8\" font-family=\"Helvetica,sans-Serif\" font-size=\"14.00\" fill=\"#000000\">samples = 235</text>\n",
       "<text text-anchor=\"middle\" x=\"54.5049\" y=\"-6.8\" font-family=\"Helvetica,sans-Serif\" font-size=\"14.00\" fill=\"#000000\">value = 56.489</text>\n",
       "</g>\n",
       "<!-- 2&#45;&gt;3 -->\n",
       "<g id=\"edge3\" class=\"edge\">\n",
       "<title>2&#45;&gt;3</title>\n",
       "<path fill=\"none\" stroke=\"#000000\" d=\"M137.7987,-85.9947C124.6144,-76.3401 110.1653,-65.7592 97.0572,-56.1604\"/>\n",
       "<polygon fill=\"#000000\" stroke=\"#000000\" points=\"98.7998,-53.0984 88.6638,-50.014 94.6641,-58.746 98.7998,-53.0984\"/>\n",
       "</g>\n",
       "<!-- 4 -->\n",
       "<g id=\"node5\" class=\"node\">\n",
       "<title>4</title>\n",
       "<path fill=\"#f1ba93\" stroke=\"#000000\" d=\"M224.0146,-50C224.0146,-50 138.9951,-50 138.9951,-50 132.9951,-50 126.9951,-44 126.9951,-38 126.9951,-38 126.9951,-12 126.9951,-12 126.9951,-6 132.9951,0 138.9951,0 138.9951,0 224.0146,0 224.0146,0 230.0146,0 236.0146,-6 236.0146,-12 236.0146,-12 236.0146,-38 236.0146,-38 236.0146,-44 230.0146,-50 224.0146,-50\"/>\n",
       "<text text-anchor=\"middle\" x=\"181.5049\" y=\"-34.8\" font-family=\"Helvetica,sans-Serif\" font-size=\"14.00\" fill=\"#000000\">mse = 407.088</text>\n",
       "<text text-anchor=\"middle\" x=\"181.5049\" y=\"-20.8\" font-family=\"Helvetica,sans-Serif\" font-size=\"14.00\" fill=\"#000000\">samples = 233</text>\n",
       "<text text-anchor=\"middle\" x=\"181.5049\" y=\"-6.8\" font-family=\"Helvetica,sans-Serif\" font-size=\"14.00\" fill=\"#000000\">value = 61.266</text>\n",
       "</g>\n",
       "<!-- 2&#45;&gt;4 -->\n",
       "<g id=\"edge4\" class=\"edge\">\n",
       "<title>2&#45;&gt;4</title>\n",
       "<path fill=\"none\" stroke=\"#000000\" d=\"M181.5049,-85.9947C181.5049,-77.6273 181.5049,-68.5643 181.5049,-60.0478\"/>\n",
       "<polygon fill=\"#000000\" stroke=\"#000000\" points=\"185.005,-60.014 181.5049,-50.014 178.005,-60.0141 185.005,-60.014\"/>\n",
       "</g>\n",
       "<!-- 6 -->\n",
       "<g id=\"node7\" class=\"node\">\n",
       "<title>6</title>\n",
       "<path fill=\"#ffffff\" stroke=\"#000000\" d=\"M351.0146,-50C351.0146,-50 265.9951,-50 265.9951,-50 259.9951,-50 253.9951,-44 253.9951,-38 253.9951,-38 253.9951,-12 253.9951,-12 253.9951,-6 259.9951,0 265.9951,0 265.9951,0 351.0146,0 351.0146,0 357.0146,0 363.0146,-6 363.0146,-12 363.0146,-12 363.0146,-38 363.0146,-38 363.0146,-44 357.0146,-50 351.0146,-50\"/>\n",
       "<text text-anchor=\"middle\" x=\"308.5049\" y=\"-34.8\" font-family=\"Helvetica,sans-Serif\" font-size=\"14.00\" fill=\"#000000\">mse = 456.775</text>\n",
       "<text text-anchor=\"middle\" x=\"308.5049\" y=\"-20.8\" font-family=\"Helvetica,sans-Serif\" font-size=\"14.00\" fill=\"#000000\">samples = 123</text>\n",
       "<text text-anchor=\"middle\" x=\"308.5049\" y=\"-6.8\" font-family=\"Helvetica,sans-Serif\" font-size=\"14.00\" fill=\"#000000\">value = 38.333</text>\n",
       "</g>\n",
       "<!-- 5&#45;&gt;6 -->\n",
       "<g id=\"edge6\" class=\"edge\">\n",
       "<title>5&#45;&gt;6</title>\n",
       "<path fill=\"none\" stroke=\"#000000\" d=\"M349.8239,-85.9947C343.7819,-77.0756 337.2045,-67.3661 331.1108,-58.3706\"/>\n",
       "<polygon fill=\"#000000\" stroke=\"#000000\" points=\"333.9561,-56.3303 325.4499,-50.014 328.1607,-60.2562 333.9561,-56.3303\"/>\n",
       "</g>\n",
       "<!-- 7 -->\n",
       "<g id=\"node8\" class=\"node\">\n",
       "<title>7</title>\n",
       "<path fill=\"#fbebe0\" stroke=\"#000000\" d=\"M478.0146,-50C478.0146,-50 392.9951,-50 392.9951,-50 386.9951,-50 380.9951,-44 380.9951,-38 380.9951,-38 380.9951,-12 380.9951,-12 380.9951,-6 386.9951,0 392.9951,0 392.9951,0 478.0146,0 478.0146,0 484.0146,0 490.0146,-6 490.0146,-12 490.0146,-12 490.0146,-38 490.0146,-38 490.0146,-44 484.0146,-50 478.0146,-50\"/>\n",
       "<text text-anchor=\"middle\" x=\"435.5049\" y=\"-34.8\" font-family=\"Helvetica,sans-Serif\" font-size=\"14.00\" fill=\"#000000\">mse = 389.649</text>\n",
       "<text text-anchor=\"middle\" x=\"435.5049\" y=\"-20.8\" font-family=\"Helvetica,sans-Serif\" font-size=\"14.00\" fill=\"#000000\">samples = 133</text>\n",
       "<text text-anchor=\"middle\" x=\"435.5049\" y=\"-6.8\" font-family=\"Helvetica,sans-Serif\" font-size=\"14.00\" fill=\"#000000\">value = 44.887</text>\n",
       "</g>\n",
       "<!-- 5&#45;&gt;7 -->\n",
       "<g id=\"edge7\" class=\"edge\">\n",
       "<title>5&#45;&gt;7</title>\n",
       "<path fill=\"none\" stroke=\"#000000\" d=\"M393.5301,-85.9947C399.6679,-77.0756 406.3497,-67.3661 412.5401,-58.3706\"/>\n",
       "<polygon fill=\"#000000\" stroke=\"#000000\" points=\"415.5051,-60.2361 418.2909,-50.014 409.7386,-56.2677 415.5051,-60.2361\"/>\n",
       "</g>\n",
       "<!-- 9 -->\n",
       "<g id=\"node10\" class=\"node\">\n",
       "<title>9</title>\n",
       "<path fill=\"#ea985d\" stroke=\"#000000\" d=\"M668.0146,-150C668.0146,-150 582.9951,-150 582.9951,-150 576.9951,-150 570.9951,-144 570.9951,-138 570.9951,-138 570.9951,-98 570.9951,-98 570.9951,-92 576.9951,-86 582.9951,-86 582.9951,-86 668.0146,-86 668.0146,-86 674.0146,-86 680.0146,-92 680.0146,-98 680.0146,-98 680.0146,-138 680.0146,-138 680.0146,-144 674.0146,-150 668.0146,-150\"/>\n",
       "<text text-anchor=\"middle\" x=\"625.5049\" y=\"-134.8\" font-family=\"Helvetica,sans-Serif\" font-size=\"14.00\" fill=\"#000000\">educ &lt;= 15.5</text>\n",
       "<text text-anchor=\"middle\" x=\"625.5049\" y=\"-120.8\" font-family=\"Helvetica,sans-Serif\" font-size=\"14.00\" fill=\"#000000\">mse = 345.027</text>\n",
       "<text text-anchor=\"middle\" x=\"625.5049\" y=\"-106.8\" font-family=\"Helvetica,sans-Serif\" font-size=\"14.00\" fill=\"#000000\">samples = 340</text>\n",
       "<text text-anchor=\"middle\" x=\"625.5049\" y=\"-92.8\" font-family=\"Helvetica,sans-Serif\" font-size=\"14.00\" fill=\"#000000\">value = 72.606</text>\n",
       "</g>\n",
       "<!-- 8&#45;&gt;9 -->\n",
       "<g id=\"edge9\" class=\"edge\">\n",
       "<title>8&#45;&gt;9</title>\n",
       "<path fill=\"none\" stroke=\"#000000\" d=\"M625.5049,-185.8089C625.5049,-177.6906 625.5049,-168.8517 625.5049,-160.3186\"/>\n",
       "<polygon fill=\"#000000\" stroke=\"#000000\" points=\"629.005,-160.1307 625.5049,-150.1308 622.005,-160.1308 629.005,-160.1307\"/>\n",
       "</g>\n",
       "<!-- 12 -->\n",
       "<g id=\"node13\" class=\"node\">\n",
       "<title>12</title>\n",
       "<path fill=\"#e68743\" stroke=\"#000000\" d=\"M859.0146,-150C859.0146,-150 773.9951,-150 773.9951,-150 767.9951,-150 761.9951,-144 761.9951,-138 761.9951,-138 761.9951,-98 761.9951,-98 761.9951,-92 767.9951,-86 773.9951,-86 773.9951,-86 859.0146,-86 859.0146,-86 865.0146,-86 871.0146,-92 871.0146,-98 871.0146,-98 871.0146,-138 871.0146,-138 871.0146,-144 865.0146,-150 859.0146,-150\"/>\n",
       "<text text-anchor=\"middle\" x=\"816.5049\" y=\"-134.8\" font-family=\"Helvetica,sans-Serif\" font-size=\"14.00\" fill=\"#000000\">female &lt;= 0.5</text>\n",
       "<text text-anchor=\"middle\" x=\"816.5049\" y=\"-120.8\" font-family=\"Helvetica,sans-Serif\" font-size=\"14.00\" fill=\"#000000\">mse = 330.649</text>\n",
       "<text text-anchor=\"middle\" x=\"816.5049\" y=\"-106.8\" font-family=\"Helvetica,sans-Serif\" font-size=\"14.00\" fill=\"#000000\">samples = 200</text>\n",
       "<text text-anchor=\"middle\" x=\"816.5049\" y=\"-92.8\" font-family=\"Helvetica,sans-Serif\" font-size=\"14.00\" fill=\"#000000\">value = 78.275</text>\n",
       "</g>\n",
       "<!-- 8&#45;&gt;12 -->\n",
       "<g id=\"edge12\" class=\"edge\">\n",
       "<title>8&#45;&gt;12</title>\n",
       "<path fill=\"none\" stroke=\"#000000\" d=\"M680.2378,-189.344C702.9151,-177.4711 729.368,-163.6214 752.9014,-151.3002\"/>\n",
       "<polygon fill=\"#000000\" stroke=\"#000000\" points=\"754.5282,-154.3993 761.764,-146.6602 751.2813,-148.1978 754.5282,-154.3993\"/>\n",
       "</g>\n",
       "<!-- 10 -->\n",
       "<g id=\"node11\" class=\"node\">\n",
       "<title>10</title>\n",
       "<path fill=\"#eb9d64\" stroke=\"#000000\" d=\"M605.0146,-50C605.0146,-50 519.9951,-50 519.9951,-50 513.9951,-50 507.9951,-44 507.9951,-38 507.9951,-38 507.9951,-12 507.9951,-12 507.9951,-6 513.9951,0 519.9951,0 519.9951,0 605.0146,0 605.0146,0 611.0146,0 617.0146,-6 617.0146,-12 617.0146,-12 617.0146,-38 617.0146,-38 617.0146,-44 611.0146,-50 605.0146,-50\"/>\n",
       "<text text-anchor=\"middle\" x=\"562.5049\" y=\"-34.8\" font-family=\"Helvetica,sans-Serif\" font-size=\"14.00\" fill=\"#000000\">mse = 369.301</text>\n",
       "<text text-anchor=\"middle\" x=\"562.5049\" y=\"-20.8\" font-family=\"Helvetica,sans-Serif\" font-size=\"14.00\" fill=\"#000000\">samples = 247</text>\n",
       "<text text-anchor=\"middle\" x=\"562.5049\" y=\"-6.8\" font-family=\"Helvetica,sans-Serif\" font-size=\"14.00\" fill=\"#000000\">value = 71.105</text>\n",
       "</g>\n",
       "<!-- 9&#45;&gt;10 -->\n",
       "<g id=\"edge10\" class=\"edge\">\n",
       "<title>9&#45;&gt;10</title>\n",
       "<path fill=\"none\" stroke=\"#000000\" d=\"M603.8239,-85.9947C597.7819,-77.0756 591.2045,-67.3661 585.1108,-58.3706\"/>\n",
       "<polygon fill=\"#000000\" stroke=\"#000000\" points=\"587.9561,-56.3303 579.4499,-50.014 582.1607,-60.2562 587.9561,-56.3303\"/>\n",
       "</g>\n",
       "<!-- 11 -->\n",
       "<g id=\"node12\" class=\"node\">\n",
       "<title>11</title>\n",
       "<path fill=\"#e78c4a\" stroke=\"#000000\" d=\"M732.0146,-50C732.0146,-50 646.9951,-50 646.9951,-50 640.9951,-50 634.9951,-44 634.9951,-38 634.9951,-38 634.9951,-12 634.9951,-12 634.9951,-6 640.9951,0 646.9951,0 646.9951,0 732.0146,0 732.0146,0 738.0146,0 744.0146,-6 744.0146,-12 744.0146,-12 744.0146,-38 744.0146,-38 744.0146,-44 738.0146,-50 732.0146,-50\"/>\n",
       "<text text-anchor=\"middle\" x=\"689.5049\" y=\"-34.8\" font-family=\"Helvetica,sans-Serif\" font-size=\"14.00\" fill=\"#000000\">mse = 258.693</text>\n",
       "<text text-anchor=\"middle\" x=\"689.5049\" y=\"-20.8\" font-family=\"Helvetica,sans-Serif\" font-size=\"14.00\" fill=\"#000000\">samples = 93</text>\n",
       "<text text-anchor=\"middle\" x=\"689.5049\" y=\"-6.8\" font-family=\"Helvetica,sans-Serif\" font-size=\"14.00\" fill=\"#000000\">value = 76.591</text>\n",
       "</g>\n",
       "<!-- 9&#45;&gt;11 -->\n",
       "<g id=\"edge11\" class=\"edge\">\n",
       "<title>9&#45;&gt;11</title>\n",
       "<path fill=\"none\" stroke=\"#000000\" d=\"M647.5301,-85.9947C653.6679,-77.0756 660.3497,-67.3661 666.5401,-58.3706\"/>\n",
       "<polygon fill=\"#000000\" stroke=\"#000000\" points=\"669.5051,-60.2361 672.2909,-50.014 663.7386,-56.2677 669.5051,-60.2361\"/>\n",
       "</g>\n",
       "<!-- 13 -->\n",
       "<g id=\"node14\" class=\"node\">\n",
       "<title>13</title>\n",
       "<path fill=\"#e89051\" stroke=\"#000000\" d=\"M859.0146,-50C859.0146,-50 773.9951,-50 773.9951,-50 767.9951,-50 761.9951,-44 761.9951,-38 761.9951,-38 761.9951,-12 761.9951,-12 761.9951,-6 767.9951,0 773.9951,0 773.9951,0 859.0146,0 859.0146,0 865.0146,0 871.0146,-6 871.0146,-12 871.0146,-12 871.0146,-38 871.0146,-38 871.0146,-44 865.0146,-50 859.0146,-50\"/>\n",
       "<text text-anchor=\"middle\" x=\"816.5049\" y=\"-34.8\" font-family=\"Helvetica,sans-Serif\" font-size=\"14.00\" fill=\"#000000\">mse = 399.015</text>\n",
       "<text text-anchor=\"middle\" x=\"816.5049\" y=\"-20.8\" font-family=\"Helvetica,sans-Serif\" font-size=\"14.00\" fill=\"#000000\">samples = 79</text>\n",
       "<text text-anchor=\"middle\" x=\"816.5049\" y=\"-6.8\" font-family=\"Helvetica,sans-Serif\" font-size=\"14.00\" fill=\"#000000\">value = 75.19</text>\n",
       "</g>\n",
       "<!-- 12&#45;&gt;13 -->\n",
       "<g id=\"edge13\" class=\"edge\">\n",
       "<title>12&#45;&gt;13</title>\n",
       "<path fill=\"none\" stroke=\"#000000\" d=\"M816.5049,-85.9947C816.5049,-77.6273 816.5049,-68.5643 816.5049,-60.0478\"/>\n",
       "<polygon fill=\"#000000\" stroke=\"#000000\" points=\"820.005,-60.014 816.5049,-50.014 813.005,-60.0141 820.005,-60.014\"/>\n",
       "</g>\n",
       "<!-- 14 -->\n",
       "<g id=\"node15\" class=\"node\">\n",
       "<title>14</title>\n",
       "<path fill=\"#e58139\" stroke=\"#000000\" d=\"M986.0146,-50C986.0146,-50 900.9951,-50 900.9951,-50 894.9951,-50 888.9951,-44 888.9951,-38 888.9951,-38 888.9951,-12 888.9951,-12 888.9951,-6 894.9951,0 900.9951,0 900.9951,0 986.0146,0 986.0146,0 992.0146,0 998.0146,-6 998.0146,-12 998.0146,-12 998.0146,-38 998.0146,-38 998.0146,-44 992.0146,-50 986.0146,-50\"/>\n",
       "<text text-anchor=\"middle\" x=\"943.5049\" y=\"-34.8\" font-family=\"Helvetica,sans-Serif\" font-size=\"14.00\" fill=\"#000000\">mse = 275.743</text>\n",
       "<text text-anchor=\"middle\" x=\"943.5049\" y=\"-20.8\" font-family=\"Helvetica,sans-Serif\" font-size=\"14.00\" fill=\"#000000\">samples = 121</text>\n",
       "<text text-anchor=\"middle\" x=\"943.5049\" y=\"-6.8\" font-family=\"Helvetica,sans-Serif\" font-size=\"14.00\" fill=\"#000000\">value = 80.289</text>\n",
       "</g>\n",
       "<!-- 12&#45;&gt;14 -->\n",
       "<g id=\"edge14\" class=\"edge\">\n",
       "<title>12&#45;&gt;14</title>\n",
       "<path fill=\"none\" stroke=\"#000000\" d=\"M860.2111,-85.9947C873.3953,-76.3401 887.8445,-65.7592 900.9525,-56.1604\"/>\n",
       "<polygon fill=\"#000000\" stroke=\"#000000\" points=\"903.3457,-58.746 909.3459,-50.014 899.21,-53.0984 903.3457,-58.746\"/>\n",
       "</g>\n",
       "</g>\n",
       "</svg>\n"
      ],
      "text/plain": [
       "<graphviz.files.Source at 0x108185e10>"
      ]
     },
     "execution_count": 6,
     "metadata": {},
     "output_type": "execute_result"
    }
   ],
   "source": [
    "import graphviz\n",
    "from sklearn.tree import export_graphviz\n",
    "\n",
    "biden_viz = export_graphviz(t_rg, filled = True, rounded = True, out_file = None,\n",
    "                           feature_names = df_jb.columns[1:])\n",
    "graph =  graphviz.Source(biden_viz)\n",
    "graph.render('biden_tree_viz')\n",
    "graph"
   ]
  },
  {
   "cell_type": "code",
   "execution_count": 7,
   "metadata": {},
   "outputs": [
    {
     "name": "stdout",
     "output_type": "stream",
     "text": [
      "The test MSE: 396.1937\n"
     ]
    }
   ],
   "source": [
    "y_pred = t_rg.predict(X_test)\n",
    "MSE1 = mean_squared_error(y_test, y_pred)\n",
    "print('The test MSE: {0:.4f}'.format(MSE1))"
   ]
  },
  {
   "cell_type": "markdown",
   "metadata": {},
   "source": [
    "- Male Democrats who are more than 55 years old have the most feelings of warmth toward Joe Biden.\n",
    "- Male Republicans have the lowest feeling of warmth toward Biden.\n",
    "- Among respondents who are neither Democrats nor Republican, female respondents are likely to have more warmth toward Biden than male. "
   ]
  },
  {
   "cell_type": "markdown",
   "metadata": {},
   "source": [
    "### (b)"
   ]
  },
  {
   "cell_type": "code",
   "execution_count": 8,
   "metadata": {},
   "outputs": [
    {
     "data": {
      "text/plain": [
       "RandomizedSearchCV(cv=5, error_score='raise-deprecating',\n",
       "                   estimator=DecisionTreeRegressor(criterion='mse',\n",
       "                                                   max_depth=None,\n",
       "                                                   max_features=None,\n",
       "                                                   max_leaf_nodes=None,\n",
       "                                                   min_impurity_decrease=0.0,\n",
       "                                                   min_impurity_split=None,\n",
       "                                                   min_samples_leaf=1,\n",
       "                                                   min_samples_split=2,\n",
       "                                                   min_weight_fraction_leaf=0.0,\n",
       "                                                   presort=False,\n",
       "                                                   random_state=None,\n",
       "                                                   splitter='best'),\n",
       "                   iid='warn', n_iter=100, n_jobs=-1,\n",
       "                   param_distributions={'max_depth': [3, 10],\n",
       "                                        'min_samples_leaf': <scipy.stats._distn_infrastructure.rv_frozen object at 0x1081a8198>,\n",
       "                                        'min_samples_split': <scipy.stats._distn_infrastructure.rv_frozen object at 0x1081a82e8>},\n",
       "                   pre_dispatch='2*n_jobs', random_state=25, refit=True,\n",
       "                   return_train_score=False, scoring='neg_mean_squared_error',\n",
       "                   verbose=0)"
      ]
     },
     "execution_count": 8,
     "metadata": {},
     "output_type": "execute_result"
    }
   ],
   "source": [
    "param_dist1 = {'max_depth'        : [3, 10],\n",
    "               'min_samples_split': sp_randint(2,20),\n",
    "               'min_samples_leaf' : sp_randint(2,20)}\n",
    "\n",
    "t_rg = DecisionTreeRegressor()\n",
    "\n",
    "clf = RandomizedSearchCV(t_rg, param_dist1, n_iter = 100,\n",
    "                         n_jobs = -1, cv = 5, \n",
    "                         random_state = 25, \n",
    "                         scoring = 'neg_mean_squared_error')\n",
    "clf.fit(X, y)"
   ]
  },
  {
   "cell_type": "code",
   "execution_count": 9,
   "metadata": {},
   "outputs": [
    {
     "name": "stdout",
     "output_type": "stream",
     "text": [
      "Optimal tuning parameter values:\n",
      " {'max_depth': 3, 'min_samples_leaf': 17, 'min_samples_split': 14}\n"
     ]
    }
   ],
   "source": [
    "print('Optimal tuning parameter values:\\n',clf.best_params_)"
   ]
  },
  {
   "cell_type": "code",
   "execution_count": 10,
   "metadata": {},
   "outputs": [
    {
     "name": "stdout",
     "output_type": "stream",
     "text": [
      "Mean cross-validated MSE of the best_estimator: 401.6904\n"
     ]
    }
   ],
   "source": [
    "print('Mean cross-validated MSE of the best_estimator: {0:.4f}'.format(-clf.best_score_))"
   ]
  },
  {
   "cell_type": "markdown",
   "metadata": {},
   "source": [
    "### (c)"
   ]
  },
  {
   "cell_type": "code",
   "execution_count": 11,
   "metadata": {},
   "outputs": [
    {
     "data": {
      "text/plain": [
       "RandomizedSearchCV(cv=5, error_score='raise-deprecating',\n",
       "                   estimator=RandomForestRegressor(bootstrap=True,\n",
       "                                                   criterion='mse',\n",
       "                                                   max_depth=None,\n",
       "                                                   max_features='auto',\n",
       "                                                   max_leaf_nodes=None,\n",
       "                                                   min_impurity_decrease=0.0,\n",
       "                                                   min_impurity_split=None,\n",
       "                                                   min_samples_leaf=1,\n",
       "                                                   min_samples_split=2,\n",
       "                                                   min_weight_fraction_leaf=0.0,\n",
       "                                                   n_estimators='warn',\n",
       "                                                   n_jobs=None, oob_score=False,\n",
       "                                                   random_sta...\n",
       "                                        'max_features': <scipy.stats._distn_infrastructure.rv_frozen object at 0x11b309470>,\n",
       "                                        'min_samples_leaf': <scipy.stats._distn_infrastructure.rv_frozen object at 0x11b309240>,\n",
       "                                        'min_samples_split': <scipy.stats._distn_infrastructure.rv_frozen object at 0x11b2f8668>,\n",
       "                                        'n_estimators': [10, 200]},\n",
       "                   pre_dispatch='2*n_jobs', random_state=25, refit=True,\n",
       "                   return_train_score=False, scoring='neg_mean_squared_error',\n",
       "                   verbose=0)"
      ]
     },
     "execution_count": 11,
     "metadata": {},
     "output_type": "execute_result"
    }
   ],
   "source": [
    "param_dist2 = {'n_estimators'     : [10, 200],\n",
    "               'max_depth'        : [3, 10],\n",
    "               'min_samples_split': sp_randint(2,20),\n",
    "               'min_samples_leaf' : sp_randint(2,20),\n",
    "               'max_features'     : sp_randint(1,5)}\n",
    "\n",
    "rf_rg = RandomForestRegressor(random_state = 25)\n",
    "\n",
    "clf = RandomizedSearchCV(rf_rg, param_dist2, n_iter = 100,\n",
    "                         n_jobs = -1, cv = 5, \n",
    "                         random_state = 25, iid = False,\n",
    "                         scoring = 'neg_mean_squared_error')\n",
    "clf.fit(X, y)"
   ]
  },
  {
   "cell_type": "code",
   "execution_count": 12,
   "metadata": {},
   "outputs": [
    {
     "name": "stdout",
     "output_type": "stream",
     "text": [
      "Optimal tuning parameter values:\n",
      " {'max_depth': 3, 'max_features': 2, 'min_samples_leaf': 17, 'min_samples_split': 13, 'n_estimators': 10}\n"
     ]
    }
   ],
   "source": [
    "print('Optimal tuning parameter values:\\n',clf.best_params_)"
   ]
  },
  {
   "cell_type": "code",
   "execution_count": 13,
   "metadata": {},
   "outputs": [
    {
     "name": "stdout",
     "output_type": "stream",
     "text": [
      "Mean cross-validated MSE of the best_estimator: 397.0967\n"
     ]
    }
   ],
   "source": [
    "print('Mean cross-validated MSE of the best_estimator: {0:.4f}'.format(-clf.best_score_))"
   ]
  },
  {
   "cell_type": "markdown",
   "metadata": {},
   "source": [
    "## Question 2."
   ]
  },
  {
   "cell_type": "code",
   "execution_count": 14,
   "metadata": {},
   "outputs": [],
   "source": [
    "df_auto = pd.read_csv('Auto.csv',na_values = '?')"
   ]
  },
  {
   "cell_type": "code",
   "execution_count": 15,
   "metadata": {
    "scrolled": true
   },
   "outputs": [
    {
     "name": "stdout",
     "output_type": "stream",
     "text": [
      "<class 'pandas.core.frame.DataFrame'>\n",
      "RangeIndex: 397 entries, 0 to 396\n",
      "Data columns (total 10 columns):\n",
      "mpg             397 non-null float64\n",
      "cylinders       397 non-null int64\n",
      "displacement    397 non-null float64\n",
      "horsepower      392 non-null float64\n",
      "weight          397 non-null int64\n",
      "acceleration    397 non-null float64\n",
      "year            397 non-null int64\n",
      "origin          397 non-null int64\n",
      "name            397 non-null object\n",
      "mpg_high        397 non-null int64\n",
      "dtypes: float64(4), int64(5), object(1)\n",
      "memory usage: 31.1+ KB\n"
     ]
    }
   ],
   "source": [
    "df_auto = df_auto.assign(mpg_high = df_auto.mpg.apply(lambda x: 1 if x >= np.median(df_auto.mpg) else 0))\n",
    "df_auto.info()"
   ]
  },
  {
   "cell_type": "markdown",
   "metadata": {},
   "source": [
    "### (a)"
   ]
  },
  {
   "cell_type": "code",
   "execution_count": 16,
   "metadata": {},
   "outputs": [],
   "source": [
    "df_auto2 = pd.get_dummies(df_auto, prefix='orgn', columns = ['origin']).dropna()\n",
    "X = df_auto2.drop(columns = ['mpg','mpg_high','name','orgn_3']).values\n",
    "y = df_auto2['mpg_high'].values"
   ]
  },
  {
   "cell_type": "code",
   "execution_count": 17,
   "metadata": {},
   "outputs": [
    {
     "data": {
      "text/plain": [
       "(392, 8)"
      ]
     },
     "execution_count": 17,
     "metadata": {},
     "output_type": "execute_result"
    }
   ],
   "source": [
    "X.shape"
   ]
  },
  {
   "cell_type": "code",
   "execution_count": 18,
   "metadata": {},
   "outputs": [],
   "source": [
    "from sklearn.model_selection import KFold\n",
    "k = 4\n",
    "kf = KFold(n_splits = k, random_state = 25, shuffle = True)\n",
    "kf.get_n_splits(X)\n",
    "\n",
    "lr_clf = LogisticRegression(solver = 'lbfgs', max_iter = 500)\n",
    "\n",
    "MSE_vec_kf = np.zeros(k)\n",
    "y_pred_kf = []\n",
    "y_test_kf = []\n",
    "\n",
    "k_ind = int(0)\n",
    "for train_index, test_index in kf.split(X):\n",
    "    X_train, X_test = X[train_index], X[test_index]\n",
    "    y_train, y_test = y[train_index], y[test_index]\n",
    "    lr_clf.fit(X_train, y_train)\n",
    "    y_pred = lr_clf.predict(X_test)\n",
    "    MSE_vec_kf[k_ind] = (y_test != y_pred).mean()\n",
    "    y_pred_kf.append(y_pred)\n",
    "    y_test_kf.append(y_test)\n",
    "    k_ind += 1"
   ]
  },
  {
   "cell_type": "code",
   "execution_count": 28,
   "metadata": {},
   "outputs": [
    {
     "name": "stdout",
     "output_type": "stream",
     "text": [
      "k-fold estimate for test MSE: 0.0969\n",
      "Standard error              :(0.0275)\n",
      "Error rate for mpg_high = 0: 0.080\n",
      "Error rate for mpg_high = 1: 0.113\n"
     ]
    }
   ],
   "source": [
    "print('k-fold estimate for test MSE: {0:.4f}'.format(MSE_vec_kf.mean()))\n",
    "print('Standard error              :({0:.4f})'.format(MSE_vec_kf.std()))\n",
    "\n",
    "y_test = np.array(y_test_kf).flatten()\n",
    "y_pred = np.array(y_pred_kf).flatten()\n",
    "for i,ps in enumerate(1 - precision_score(y_test, y_pred, average = None)):\n",
    "    print('Error rate for mpg_high = {0}: {1:.3f}'.format(i,ps))"
   ]
  },
  {
   "cell_type": "markdown",
   "metadata": {},
   "source": [
    "### (b)"
   ]
  },
  {
   "cell_type": "code",
   "execution_count": 29,
   "metadata": {},
   "outputs": [
    {
     "name": "stdout",
     "output_type": "stream",
     "text": [
      "CPU times: user 450 ms, sys: 40.7 ms, total: 490 ms\n",
      "Wall time: 12.4 s\n"
     ]
    },
    {
     "data": {
      "text/plain": [
       "RandomizedSearchCV(cv=4, error_score='raise-deprecating',\n",
       "                   estimator=RandomForestRegressor(bootstrap=True,\n",
       "                                                   criterion='mse',\n",
       "                                                   max_depth=None,\n",
       "                                                   max_features='auto',\n",
       "                                                   max_leaf_nodes=None,\n",
       "                                                   min_impurity_decrease=0.0,\n",
       "                                                   min_impurity_split=None,\n",
       "                                                   min_samples_leaf=1,\n",
       "                                                   min_samples_split=2,\n",
       "                                                   min_weight_fraction_leaf=0.0,\n",
       "                                                   n_estimators='warn',\n",
       "                                                   n_jobs=None, oob_score=False,\n",
       "                                                   random_sta...\n",
       "                                        'max_features': <scipy.stats._distn_infrastructure.rv_frozen object at 0x11b2e7e10>,\n",
       "                                        'min_samples_leaf': <scipy.stats._distn_infrastructure.rv_frozen object at 0x11b2c46a0>,\n",
       "                                        'min_samples_split': <scipy.stats._distn_infrastructure.rv_frozen object at 0x11b2c4208>,\n",
       "                                        'n_estimators': [10, 200]},\n",
       "                   pre_dispatch='2*n_jobs', random_state=25, refit=True,\n",
       "                   return_train_score=False, scoring='neg_mean_squared_error',\n",
       "                   verbose=0)"
      ]
     },
     "execution_count": 29,
     "metadata": {},
     "output_type": "execute_result"
    }
   ],
   "source": [
    "param_dist3 = {'n_estimators'     : [10, 200],\n",
    "               'max_depth'        : [3, 8],\n",
    "               'min_samples_split': sp_randint(2,20),\n",
    "               'min_samples_leaf' : sp_randint(2,20),\n",
    "               'max_features'     : sp_randint(1,8)}\n",
    "\n",
    "rf_rg = RandomForestRegressor(random_state = 25)\n",
    "\n",
    "clf = RandomizedSearchCV(rf_rg, param_dist3, n_iter = 100,\n",
    "                         n_jobs = -1, cv = 4, \n",
    "                         random_state = 25,\n",
    "                         scoring = 'neg_mean_squared_error')\n",
    "%time clf.fit(X, y)"
   ]
  },
  {
   "cell_type": "code",
   "execution_count": 30,
   "metadata": {},
   "outputs": [
    {
     "name": "stdout",
     "output_type": "stream",
     "text": [
      "Optimal tuning parameter values:\n",
      " {'max_depth': 8, 'max_features': 1, 'min_samples_leaf': 4, 'min_samples_split': 4, 'n_estimators': 10}\n"
     ]
    }
   ],
   "source": [
    "print('Optimal tuning parameter values:\\n',clf.best_params_)"
   ]
  },
  {
   "cell_type": "code",
   "execution_count": 31,
   "metadata": {},
   "outputs": [
    {
     "name": "stdout",
     "output_type": "stream",
     "text": [
      "Mean cross-validated MSE of the best_estimator: 0.0932\n"
     ]
    }
   ],
   "source": [
    "print('Mean cross-validated MSE of the best_estimator: {0:.4f}'.format(-clf.best_score_))"
   ]
  },
  {
   "cell_type": "markdown",
   "metadata": {},
   "source": [
    "### (c)"
   ]
  },
  {
   "cell_type": "code",
   "execution_count": 23,
   "metadata": {},
   "outputs": [
    {
     "name": "stdout",
     "output_type": "stream",
     "text": [
      "CPU times: user 254 ms, sys: 7.22 ms, total: 261 ms\n",
      "Wall time: 644 ms\n"
     ]
    },
    {
     "data": {
      "text/plain": [
       "RandomizedSearchCV(cv=4, error_score='raise-deprecating',\n",
       "                   estimator=SVC(C=1.0, cache_size=200, class_weight=None,\n",
       "                                 coef0=0.0, decision_function_shape='ovr',\n",
       "                                 degree=3, gamma='auto_deprecated',\n",
       "                                 kernel='rbf', max_iter=-1, probability=False,\n",
       "                                 random_state=None, shrinking=True, tol=0.001,\n",
       "                                 verbose=False),\n",
       "                   iid=False, n_iter=100, n_jobs=-1,\n",
       "                   param_distributions={'C': <scipy.stats._distn_infrastructure.rv_frozen object at 0x11b2bb128>,\n",
       "                                        'gamma': ['scale', 'auto'],\n",
       "                                        'shrinking': [True, False]},\n",
       "                   pre_dispatch='2*n_jobs', random_state=25, refit=True,\n",
       "                   return_train_score=False, scoring='neg_mean_squared_error',\n",
       "                   verbose=0)"
      ]
     },
     "execution_count": 23,
     "metadata": {},
     "output_type": "execute_result"
    }
   ],
   "source": [
    "param_dist4 = {'C'        : sp_uniform(loc = 0.2,scale = 4.0),\n",
    "               'gamma'    : ['scale','auto'],\n",
    "               'shrinking': [True,False]}\n",
    "\n",
    "svm = svm.SVC(kernel='rbf')\n",
    "\n",
    "clf = RandomizedSearchCV(svm, param_dist4, n_iter = 100,\n",
    "                         n_jobs = -1, cv = 4, \n",
    "                         random_state = 25, iid = False,\n",
    "                         scoring = 'neg_mean_squared_error')\n",
    "%time clf.fit(X, y)"
   ]
  },
  {
   "cell_type": "code",
   "execution_count": 24,
   "metadata": {},
   "outputs": [
    {
     "name": "stdout",
     "output_type": "stream",
     "text": [
      "Optimal tuning parameter values:\n",
      " {'C': 1.8094629152568114, 'gamma': 'scale', 'shrinking': False}\n"
     ]
    }
   ],
   "source": [
    "print('Optimal tuning parameter values:\\n',clf.best_params_)"
   ]
  },
  {
   "cell_type": "code",
   "execution_count": 25,
   "metadata": {},
   "outputs": [
    {
     "name": "stdout",
     "output_type": "stream",
     "text": [
      "Mean cross-validated MSE of the best_estimator: 0.1199\n"
     ]
    }
   ],
   "source": [
    "print('Mean cross-validated MSE of the best_estimator: {0:.4f}'.format(-clf.best_score_))"
   ]
  },
  {
   "cell_type": "markdown",
   "metadata": {},
   "source": [
    "### (d)\n",
    "Since `RandomForestClassifier` has the lowest MSE for this classification the model is the best, although it took 12 seconds to finish the search for best hyperparameters."
   ]
  },
  {
   "cell_type": "code",
   "execution_count": null,
   "metadata": {},
   "outputs": [],
   "source": []
  }
 ],
 "metadata": {
  "kernelspec": {
   "display_name": "Python 3",
   "language": "python",
   "name": "python3"
  },
  "language_info": {
   "codemirror_mode": {
    "name": "ipython",
    "version": 3
   },
   "file_extension": ".py",
   "mimetype": "text/x-python",
   "name": "python",
   "nbconvert_exporter": "python",
   "pygments_lexer": "ipython3",
   "version": "3.7.1"
  },
  "toc": {
   "base_numbering": 1,
   "nav_menu": {},
   "number_sections": false,
   "sideBar": true,
   "skip_h1_title": false,
   "title_cell": "Table of Contents",
   "title_sidebar": "Contents",
   "toc_cell": false,
   "toc_position": {},
   "toc_section_display": true,
   "toc_window_display": false
  }
 },
 "nbformat": 4,
 "nbformat_minor": 2
}
